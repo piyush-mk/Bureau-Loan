{
  "nbformat": 4,
  "nbformat_minor": 0,
  "metadata": {
    "colab": {
      "provenance": []
    },
    "kernelspec": {
      "name": "python3",
      "display_name": "Python 3"
    },
    "language_info": {
      "name": "python"
    }
  },
  "cells": [
    {
      "cell_type": "code",
      "execution_count": 9,
      "metadata": {
        "id": "EtZb0SAXXbru"
      },
      "outputs": [],
      "source": [
        "import pandas as pd\n",
        "from sklearn.model_selection import train_test_split\n",
        "from sklearn.preprocessing import LabelEncoder, StandardScaler\n",
        "from sklearn.impute import SimpleImputer\n",
        "from sklearn.ensemble import RandomForestClassifier\n",
        "from sklearn.metrics import classification_report, accuracy_score"
      ]
    },
    {
      "cell_type": "code",
      "source": [
        "train_data = pd.read_csv('/content/Assignment_Train.csv')\n",
        "test_data = pd.read_csv('/content/Assignment_Test.csv')\n",
        "feature_dict = pd.read_excel('/content/Assignment_FeatureDictionary.xlsx')\n"
      ],
      "metadata": {
        "id": "4QbxdXcuXkQE"
      },
      "execution_count": 2,
      "outputs": []
    },
    {
      "cell_type": "code",
      "source": [
        "train_data_preview = train_data.head()\n",
        "test_data_preview = test_data.head()\n",
        "feature_dict_preview = feature_dict.head()"
      ],
      "metadata": {
        "id": "YSJZZOnnYEES"
      },
      "execution_count": 4,
      "outputs": []
    },
    {
      "cell_type": "code",
      "source": [
        "train_data_preview, test_data_preview, feature_dict_preview"
      ],
      "metadata": {
        "colab": {
          "base_uri": "https://localhost:8080/"
        },
        "id": "qiIl3T-4YG7-",
        "outputId": "26c57f77-25af-4e1c-c032-a6cc3a178ee6"
      },
      "execution_count": 5,
      "outputs": [
        {
          "output_type": "execute_result",
          "data": {
            "text/plain": [
              "(   DEALER ID APPLICATION LOGIN DATE HDB BRANCH NAME HDB BRANCH STATE  \\\n",
              " 0     106989             07/20/2022        DELHI-SF            DELHI   \n",
              " 1     108975             07/28/2022        PATNA-SF            BIHAR   \n",
              " 2     111004             07/15/2022   DARJEELING-SF      WEST BENGAL   \n",
              " 3     192020               07/04/22   SAHARANPUR-SF    UTTAR PRADESH   \n",
              " 4      55095             07/15/2022       MODASA-SF          GUJARAT   \n",
              " \n",
              "   FIRST NAME MIDDLE NAME  LAST NAME      mobile AADHAR VERIFIED Cibil Score  \\\n",
              " 0      SUNIL         NaN    CHANDER  9210574080              NO         726   \n",
              " 1      AMRIT         NaN      KUMAR  8877987018              NO         NaN   \n",
              " 2    ANIMESH         NaN      THAPA  8910862135              NO         737   \n",
              " 3     ADITYA         NaN      SINGH  9758428017              NO         713   \n",
              " 4     PARMAR  HARESHBHAI  AMRUTBHAI  9687028486              NO         669   \n",
              " \n",
              "    ...  Phone Social Premium.shaadi Phone Social Premium.skype  \\\n",
              " 0  ...                          0.0                        0.0   \n",
              " 1  ...                          0.0                        0.0   \n",
              " 2  ...                          0.0                        0.0   \n",
              " 3  ...                          0.0                        0.0   \n",
              " 4  ...                          0.0                        0.0   \n",
              " \n",
              "    Phone Social Premium.toi Phone Social Premium.whatsapp  \\\n",
              " 0                       1.0                           NaN   \n",
              " 1                       0.0                           NaN   \n",
              " 2                       0.0                           NaN   \n",
              " 3                       1.0                           NaN   \n",
              " 4                       1.0                           NaN   \n",
              " \n",
              "    Phone Social Premium.yatra  Phone Social Premium.zoho phone_digitalage  \\\n",
              " 0                         NaN                        0.0           5324.0   \n",
              " 1                         NaN                        0.0           1998.0   \n",
              " 2                         NaN                        0.0             -1.0   \n",
              " 3                         NaN                        0.0           1998.0   \n",
              " 4                         NaN                        0.0           1998.0   \n",
              " \n",
              "   phone_nameMatchScore phone_phoneFootprintStrengthOverall Application Status  \n",
              " 0            67.222222                                High           APPROVED  \n",
              " 1           100.000000                                High           APPROVED  \n",
              " 2            -1.000000                                 Low           APPROVED  \n",
              " 3            72.777778                                High           APPROVED  \n",
              " 4            68.095238                                High           DECLINED  \n",
              " \n",
              " [5 rows x 55 columns],\n",
              "                    UID  DEALER ID APPLICATION LOGIN DATE HDB BRANCH NAME  \\\n",
              " 0  1844045271814558464     105615               07/12/22        HUBLI-SF   \n",
              " 1  1840349097823778816      91593             07/14/2022        SATNA-SF   \n",
              " 2  1488102613362294272      74152               07/07/22      LUCKNOW-SF   \n",
              " 3   555529923942874624     110164             07/13/2022       KOLLAM-SF   \n",
              " 4  1010213070486150912     113037               07/08/22         PURI-SF   \n",
              " \n",
              "   HDB BRANCH STATE FIRST NAME MIDDLE NAME   LAST NAME      mobile  \\\n",
              " 0              NaN  VENUGOPAL           H  BHARADHVAJ  7019759674   \n",
              " 1   MADHYA PRADESH   SHIVDHAR         NaN   CHAUDHARY  7697884828   \n",
              " 2    UTTAR PRADESH     MANISH         NaN       VERMA  8840079825   \n",
              " 3           KERALA      DEEPU  RAVEENDRAN  RAVEENDRAN  8089276854   \n",
              " 4           ORISSA     AKASHA         NaN     PRADHAN  9337511958   \n",
              " \n",
              "   AADHAR VERIFIED  ... Phone Social Premium.rummycircle  \\\n",
              " 0              NO  ...                              NaN   \n",
              " 1              NO  ...                              NaN   \n",
              " 2              NO  ...                              NaN   \n",
              " 3              NO  ...                              NaN   \n",
              " 4              NO  ...                              NaN   \n",
              " \n",
              "    Phone Social Premium.shaadi Phone Social Premium.skype  \\\n",
              " 0                          0.0                        0.0   \n",
              " 1                          0.0                        0.0   \n",
              " 2                          0.0                        1.0   \n",
              " 3                          0.0                        0.0   \n",
              " 4                          0.0                        0.0   \n",
              " \n",
              "    Phone Social Premium.toi Phone Social Premium.whatsapp  \\\n",
              " 0                       0.0                           0.0   \n",
              " 1                       NaN                           0.0   \n",
              " 2                       0.0                           1.0   \n",
              " 3                       0.0                           NaN   \n",
              " 4                       0.0                           NaN   \n",
              " \n",
              "    Phone Social Premium.yatra  Phone Social Premium.zoho phone_digitalage  \\\n",
              " 0                         NaN                        0.0              676   \n",
              " 1                         NaN                        0.0              897   \n",
              " 2                         NaN                        0.0              839   \n",
              " 3                         NaN                        0.0             2050   \n",
              " 4                         NaN                        0.0               -1   \n",
              " \n",
              "   phone_nameMatchScore phone_phoneFootprintStrengthOverall  \n",
              " 0                100.0                              Medium  \n",
              " 1                 -1.0                                 Low  \n",
              " 2                100.0                              Medium  \n",
              " 3                 -1.0                                 Low  \n",
              " 4                 -1.0                            Very Low  \n",
              " \n",
              " [5 rows x 55 columns],\n",
              "               COLUMN NAME                 COLUMN DESCRIPTION\n",
              " 0               DEALER ID    Unique identifier of the dealer\n",
              " 1  APPLICATION LOGIN DATE  Date of submission of application\n",
              " 2         HDB BRANCH NAME                Bank branch details\n",
              " 3        HDB BRANCH STATE                                NaN\n",
              " 4              FIRST NAME                  Submitted Details)"
            ]
          },
          "metadata": {},
          "execution_count": 5
        }
      ]
    },
    {
      "cell_type": "markdown",
      "source": [
        "The datasets consist of the following:\n",
        "\n",
        "Training Data: Contains 55 columns, including features such as dealer information, customer details (e.g., mobile, AADHAR verification, credit scores), and several social and digital footprint features. The target variable is \"Application Status\" which indicates whether the loan application was accepted or rejected.\n",
        "\n",
        "Test Data: Contains the same columns as the training data, minus the \"Application Status\" column.\n",
        "\n",
        "Feature Dictionary: Provides descriptions of the various columns in the datasets, such as \"DEALER ID\" and \"APPLICATION LOGIN DATE.\"\n"
      ],
      "metadata": {
        "id": "qKO7qOURYOQv"
      }
    },
    {
      "cell_type": "code",
      "source": [
        "# Checking for missing values and basic statistics in the training data\n",
        "missing_values = train_data.isnull().sum()\n",
        "train_data_stats = train_data.describe(include='all')"
      ],
      "metadata": {
        "id": "XRP6IOd5YKHX"
      },
      "execution_count": 6,
      "outputs": []
    },
    {
      "cell_type": "code",
      "source": [
        "missing_values, train_data_stats"
      ],
      "metadata": {
        "colab": {
          "base_uri": "https://localhost:8080/"
        },
        "id": "qjV0RJrCYT-B",
        "outputId": "dd3c1a26-1523-4bdb-8150-46023ce04a7a"
      },
      "execution_count": 8,
      "outputs": [
        {
          "output_type": "execute_result",
          "data": {
            "text/plain": [
              "(DEALER ID                                 0\n",
              " APPLICATION LOGIN DATE                    0\n",
              " HDB BRANCH NAME                           1\n",
              " HDB BRANCH STATE                        854\n",
              " FIRST NAME                                0\n",
              " MIDDLE NAME                            7145\n",
              " LAST NAME                               681\n",
              " mobile                                    0\n",
              " AADHAR VERIFIED                           0\n",
              " Cibil Score                            4297\n",
              " MOBILE VERIFICATION                       0\n",
              " DEALER NAME                               4\n",
              " TOTAL ASSET COST                       5108\n",
              " ASSET CTG                              5108\n",
              " ASSET MODEL NO                            0\n",
              " APPLIED AMOUNT                            0\n",
              " PRIMARY ASSET MAKE                        0\n",
              " Primary Asset Model No                    0\n",
              " Personal Email Address                    0\n",
              " MARITAL STATUS                         4894\n",
              " GENDER                                    0\n",
              " DOB                                       0\n",
              " AGE                                       0\n",
              " ADDRESS TYPE                           3312\n",
              " EMPLOY CONSTITUTION                    4998\n",
              " EMPLOYER NAME                          5010\n",
              " EMPLOYER TYPE                          4998\n",
              " Pan Name                               1053\n",
              " name                                      0\n",
              " vpa                                    2787\n",
              " upi_name                               2789\n",
              " Phone Social Premium.a23games          9999\n",
              " Phone Social Premium.amazon            1916\n",
              " Phone Social Premium.byjus             1948\n",
              " Phone Social Premium.flipkart          1832\n",
              " Phone Social Premium.housing           1776\n",
              " Phone Social Premium.indiamart         1775\n",
              " Phone Social Premium.instagram         6630\n",
              " Phone Social Premium.isWABusiness      8427\n",
              " Phone Social Premium.jeevansaathi      1829\n",
              " Phone Social Premium.jiomart           9590\n",
              " Phone Social Premium.microsoft         1872\n",
              " Phone Social Premium.my11              9998\n",
              " Phone Social Premium.paytm             1757\n",
              " Phone Social Premium.rummycircle       9999\n",
              " Phone Social Premium.shaadi            1779\n",
              " Phone Social Premium.skype             1785\n",
              " Phone Social Premium.toi               1943\n",
              " Phone Social Premium.whatsapp          8427\n",
              " Phone Social Premium.yatra             9991\n",
              " Phone Social Premium.zoho              1782\n",
              " phone_digitalage                          4\n",
              " phone_nameMatchScore                      4\n",
              " phone_phoneFootprintStrengthOverall       6\n",
              " Application Status                        0\n",
              " dtype: int64,\n",
              "             DEALER ID APPLICATION LOGIN DATE HDB BRANCH NAME HDB BRANCH STATE  \\\n",
              " count    10000.000000                  10000            9999             9146   \n",
              " unique            NaN                     29             542               24   \n",
              " top               NaN               07/11/22        NOIDA-SF    UTTAR PRADESH   \n",
              " freq              NaN                    505             306             1981   \n",
              " mean    102936.459100                    NaN             NaN              NaN   \n",
              " std      37830.984431                    NaN             NaN              NaN   \n",
              " min      49849.000000                    NaN             NaN              NaN   \n",
              " 25%      79953.750000                    NaN             NaN              NaN   \n",
              " 50%      94631.000000                    NaN             NaN              NaN   \n",
              " 75%     108463.000000                    NaN             NaN              NaN   \n",
              " max     202616.000000                    NaN             NaN              NaN   \n",
              " \n",
              "        FIRST NAME MIDDLE NAME LAST NAME        mobile AADHAR VERIFIED  \\\n",
              " count       10000        2855      9319  1.000000e+04           10000   \n",
              " unique       4463        1264      3101           NaN               1   \n",
              " top          MOHD       KUMAR     SINGH           NaN              NO   \n",
              " freq          202         514       874           NaN           10000   \n",
              " mean          NaN         NaN       NaN  8.630041e+09             NaN   \n",
              " std           NaN         NaN       NaN  1.077717e+09             NaN   \n",
              " min           NaN         NaN       NaN  6.000042e+09             NaN   \n",
              " 25%           NaN         NaN       NaN  7.894858e+09             NaN   \n",
              " 50%           NaN         NaN       NaN  8.867377e+09             NaN   \n",
              " 75%           NaN         NaN       NaN  9.588181e+09             NaN   \n",
              " max           NaN         NaN       NaN  9.999977e+09             NaN   \n",
              " \n",
              "        Cibil Score  ... Phone Social Premium.shaadi  \\\n",
              " count         5703  ...                 8221.000000   \n",
              " unique         267  ...                         NaN   \n",
              " top            752  ...                         NaN   \n",
              " freq           105  ...                         NaN   \n",
              " mean           NaN  ...                    0.017516   \n",
              " std            NaN  ...                    0.131192   \n",
              " min            NaN  ...                    0.000000   \n",
              " 25%            NaN  ...                    0.000000   \n",
              " 50%            NaN  ...                    0.000000   \n",
              " 75%            NaN  ...                    0.000000   \n",
              " max            NaN  ...                    1.000000   \n",
              " \n",
              "        Phone Social Premium.skype  Phone Social Premium.toi  \\\n",
              " count                 8215.000000               8057.000000   \n",
              " unique                        NaN                       NaN   \n",
              " top                           NaN                       NaN   \n",
              " freq                          NaN                       NaN   \n",
              " mean                     0.147657                  0.250838   \n",
              " std                      0.354781                  0.433522   \n",
              " min                      0.000000                  0.000000   \n",
              " 25%                      0.000000                  0.000000   \n",
              " 50%                      0.000000                  0.000000   \n",
              " 75%                      0.000000                  1.000000   \n",
              " max                      1.000000                  1.000000   \n",
              " \n",
              "        Phone Social Premium.whatsapp  Phone Social Premium.yatra  \\\n",
              " count                    1573.000000                         9.0   \n",
              " unique                           NaN                         NaN   \n",
              " top                              NaN                         NaN   \n",
              " freq                             NaN                         NaN   \n",
              " mean                        0.854418                         0.0   \n",
              " std                         0.352799                         0.0   \n",
              " min                         0.000000                         0.0   \n",
              " 25%                         1.000000                         0.0   \n",
              " 50%                         1.000000                         0.0   \n",
              " 75%                         1.000000                         0.0   \n",
              " max                         1.000000                         0.0   \n",
              " \n",
              "         Phone Social Premium.zoho phone_digitalage phone_nameMatchScore  \\\n",
              " count                 8218.000000      9996.000000          9996.000000   \n",
              " unique                        NaN              NaN                  NaN   \n",
              " top                           NaN              NaN                  NaN   \n",
              " freq                          NaN              NaN                  NaN   \n",
              " mean                     0.000608      1652.937975            55.645558   \n",
              " std                      0.024660       984.114248            42.100616   \n",
              " min                      0.000000        -1.000000            -1.000000   \n",
              " 25%                      0.000000       809.000000            -1.000000   \n",
              " 50%                      0.000000      1988.000000            73.571429   \n",
              " 75%                      0.000000      2031.000000            96.000000   \n",
              " max                      1.000000      6311.000000           100.000000   \n",
              " \n",
              "        phone_phoneFootprintStrengthOverall Application Status  \n",
              " count                                 9994              10000  \n",
              " unique                                   5                  2  \n",
              " top                                 Medium           APPROVED  \n",
              " freq                                  4599               6677  \n",
              " mean                                   NaN                NaN  \n",
              " std                                    NaN                NaN  \n",
              " min                                    NaN                NaN  \n",
              " 25%                                    NaN                NaN  \n",
              " 50%                                    NaN                NaN  \n",
              " 75%                                    NaN                NaN  \n",
              " max                                    NaN                NaN  \n",
              " \n",
              " [11 rows x 55 columns])"
            ]
          },
          "metadata": {},
          "execution_count": 8
        }
      ]
    },
    {
      "cell_type": "markdown",
      "source": [
        "The training data contains significant amounts of missing values in several columns, particularly in fields such as:\n",
        "\n",
        "HDB BRANCH STATE (854 missing values)\n",
        "MIDDLE NAME (7,145 missing values)\n",
        "Cibil Score (4,297 missing values)\n",
        "TOTAL ASSET COST and ASSET CTG (both have 5,108 missing values)\n",
        "Several \"Phone Social Premium\" columns also have a large number of missing values.\n"
      ],
      "metadata": {
        "id": "eOoppVrEYZ8y"
      }
    },
    {
      "cell_type": "code",
      "source": [
        "# Handle Missing Values\n",
        "# Impute missing numerical values with the mean and categorical values with the most frequent value\n",
        "num_cols = train_data.select_dtypes(include=['float64', 'int64']).columns\n",
        "cat_cols = train_data.select_dtypes(include=['object']).columns"
      ],
      "metadata": {
        "id": "mtnhbU8CYVNH"
      },
      "execution_count": 10,
      "outputs": []
    },
    {
      "cell_type": "code",
      "source": [
        "# Imputation for numerical and categorical columns\n",
        "num_imputer = SimpleImputer(strategy='mean')\n",
        "cat_imputer = SimpleImputer(strategy='most_frequent')\n",
        "\n",
        "train_data[num_cols] = num_imputer.fit_transform(train_data[num_cols])\n",
        "train_data[cat_cols] = cat_imputer.fit_transform(train_data[cat_cols])"
      ],
      "metadata": {
        "id": "tDwGW_RvYrJH"
      },
      "execution_count": 11,
      "outputs": []
    },
    {
      "cell_type": "code",
      "source": [
        "# Encode categorical variables\n",
        "label_encoders = {}\n",
        "for col in cat_cols:\n",
        "    if train_data[col].dtype == 'object':\n",
        "        le = LabelEncoder()\n",
        "        train_data[col] = le.fit_transform(train_data[col])\n",
        "        label_encoders[col] = le"
      ],
      "metadata": {
        "id": "oZEGmUU9Yt0S"
      },
      "execution_count": 12,
      "outputs": []
    },
    {
      "cell_type": "code",
      "source": [
        "# Feature Scaling\n",
        "scaler = StandardScaler()\n",
        "train_data[num_cols] = scaler.fit_transform(train_data[num_cols])\n"
      ],
      "metadata": {
        "id": "mwhw5OI1YxgE"
      },
      "execution_count": 13,
      "outputs": []
    },
    {
      "cell_type": "code",
      "source": [
        "# Checking the column names of the training data to locate the identifier column\n",
        "column_names = train_data.columns\n",
        "column_names\n"
      ],
      "metadata": {
        "colab": {
          "base_uri": "https://localhost:8080/"
        },
        "id": "QV1dwDi_Y6bk",
        "outputId": "df1218fe-6e4d-446c-983f-8b5010720e10"
      },
      "execution_count": 14,
      "outputs": [
        {
          "output_type": "execute_result",
          "data": {
            "text/plain": [
              "Index(['DEALER ID', 'APPLICATION LOGIN DATE', 'HDB BRANCH NAME',\n",
              "       'HDB BRANCH STATE', 'FIRST NAME', 'MIDDLE NAME', 'LAST NAME', 'mobile',\n",
              "       'AADHAR VERIFIED', 'Cibil Score', 'MOBILE VERIFICATION', 'DEALER NAME',\n",
              "       'TOTAL ASSET COST', 'ASSET CTG', 'ASSET MODEL NO', 'APPLIED AMOUNT',\n",
              "       'PRIMARY ASSET MAKE', 'Primary Asset Model No',\n",
              "       'Personal Email Address', 'MARITAL STATUS', 'GENDER', 'DOB', 'AGE',\n",
              "       'ADDRESS TYPE', 'EMPLOY CONSTITUTION', 'EMPLOYER NAME', 'EMPLOYER TYPE',\n",
              "       'Pan Name', 'name', 'vpa', 'upi_name', 'Phone Social Premium.a23games',\n",
              "       'Phone Social Premium.amazon', 'Phone Social Premium.byjus',\n",
              "       'Phone Social Premium.flipkart', 'Phone Social Premium.housing',\n",
              "       'Phone Social Premium.indiamart', 'Phone Social Premium.instagram',\n",
              "       'Phone Social Premium.isWABusiness',\n",
              "       'Phone Social Premium.jeevansaathi', 'Phone Social Premium.jiomart',\n",
              "       'Phone Social Premium.microsoft', 'Phone Social Premium.my11',\n",
              "       'Phone Social Premium.paytm', 'Phone Social Premium.rummycircle',\n",
              "       'Phone Social Premium.shaadi', 'Phone Social Premium.skype',\n",
              "       'Phone Social Premium.toi', 'Phone Social Premium.whatsapp',\n",
              "       'Phone Social Premium.yatra', 'Phone Social Premium.zoho',\n",
              "       'phone_digitalage', 'phone_nameMatchScore',\n",
              "       'phone_phoneFootprintStrengthOverall', 'Application Status'],\n",
              "      dtype='object')"
            ]
          },
          "metadata": {},
          "execution_count": 14
        }
      ]
    },
    {
      "cell_type": "code",
      "source": [
        "X = train_data.drop(columns=['Application Status'])  # Dropping the target column\n",
        "y = train_data['Application Status']"
      ],
      "metadata": {
        "id": "nBJXcgSZY8kk"
      },
      "execution_count": 15,
      "outputs": []
    },
    {
      "cell_type": "code",
      "source": [
        "# Splitting the data into training and validation sets\n",
        "X_train, X_val, y_train, y_val = train_test_split(X, y, test_size=0.2, random_state=42)"
      ],
      "metadata": {
        "id": "eSrRrblzZAx8"
      },
      "execution_count": 16,
      "outputs": []
    },
    {
      "cell_type": "code",
      "source": [
        "# Train a Random Forest Classifier\n",
        "model = RandomForestClassifier(random_state=42)\n",
        "model.fit(X_train, y_train)"
      ],
      "metadata": {
        "colab": {
          "base_uri": "https://localhost:8080/",
          "height": 74
        },
        "id": "wtUjnspjZCMv",
        "outputId": "6914cd8a-a6bb-4ac0-ce86-2fd84af17bf2"
      },
      "execution_count": 17,
      "outputs": [
        {
          "output_type": "execute_result",
          "data": {
            "text/plain": [
              "RandomForestClassifier(random_state=42)"
            ],
            "text/html": [
              "<style>#sk-container-id-1 {color: black;}#sk-container-id-1 pre{padding: 0;}#sk-container-id-1 div.sk-toggleable {background-color: white;}#sk-container-id-1 label.sk-toggleable__label {cursor: pointer;display: block;width: 100%;margin-bottom: 0;padding: 0.3em;box-sizing: border-box;text-align: center;}#sk-container-id-1 label.sk-toggleable__label-arrow:before {content: \"▸\";float: left;margin-right: 0.25em;color: #696969;}#sk-container-id-1 label.sk-toggleable__label-arrow:hover:before {color: black;}#sk-container-id-1 div.sk-estimator:hover label.sk-toggleable__label-arrow:before {color: black;}#sk-container-id-1 div.sk-toggleable__content {max-height: 0;max-width: 0;overflow: hidden;text-align: left;background-color: #f0f8ff;}#sk-container-id-1 div.sk-toggleable__content pre {margin: 0.2em;color: black;border-radius: 0.25em;background-color: #f0f8ff;}#sk-container-id-1 input.sk-toggleable__control:checked~div.sk-toggleable__content {max-height: 200px;max-width: 100%;overflow: auto;}#sk-container-id-1 input.sk-toggleable__control:checked~label.sk-toggleable__label-arrow:before {content: \"▾\";}#sk-container-id-1 div.sk-estimator input.sk-toggleable__control:checked~label.sk-toggleable__label {background-color: #d4ebff;}#sk-container-id-1 div.sk-label input.sk-toggleable__control:checked~label.sk-toggleable__label {background-color: #d4ebff;}#sk-container-id-1 input.sk-hidden--visually {border: 0;clip: rect(1px 1px 1px 1px);clip: rect(1px, 1px, 1px, 1px);height: 1px;margin: -1px;overflow: hidden;padding: 0;position: absolute;width: 1px;}#sk-container-id-1 div.sk-estimator {font-family: monospace;background-color: #f0f8ff;border: 1px dotted black;border-radius: 0.25em;box-sizing: border-box;margin-bottom: 0.5em;}#sk-container-id-1 div.sk-estimator:hover {background-color: #d4ebff;}#sk-container-id-1 div.sk-parallel-item::after {content: \"\";width: 100%;border-bottom: 1px solid gray;flex-grow: 1;}#sk-container-id-1 div.sk-label:hover label.sk-toggleable__label {background-color: #d4ebff;}#sk-container-id-1 div.sk-serial::before {content: \"\";position: absolute;border-left: 1px solid gray;box-sizing: border-box;top: 0;bottom: 0;left: 50%;z-index: 0;}#sk-container-id-1 div.sk-serial {display: flex;flex-direction: column;align-items: center;background-color: white;padding-right: 0.2em;padding-left: 0.2em;position: relative;}#sk-container-id-1 div.sk-item {position: relative;z-index: 1;}#sk-container-id-1 div.sk-parallel {display: flex;align-items: stretch;justify-content: center;background-color: white;position: relative;}#sk-container-id-1 div.sk-item::before, #sk-container-id-1 div.sk-parallel-item::before {content: \"\";position: absolute;border-left: 1px solid gray;box-sizing: border-box;top: 0;bottom: 0;left: 50%;z-index: -1;}#sk-container-id-1 div.sk-parallel-item {display: flex;flex-direction: column;z-index: 1;position: relative;background-color: white;}#sk-container-id-1 div.sk-parallel-item:first-child::after {align-self: flex-end;width: 50%;}#sk-container-id-1 div.sk-parallel-item:last-child::after {align-self: flex-start;width: 50%;}#sk-container-id-1 div.sk-parallel-item:only-child::after {width: 0;}#sk-container-id-1 div.sk-dashed-wrapped {border: 1px dashed gray;margin: 0 0.4em 0.5em 0.4em;box-sizing: border-box;padding-bottom: 0.4em;background-color: white;}#sk-container-id-1 div.sk-label label {font-family: monospace;font-weight: bold;display: inline-block;line-height: 1.2em;}#sk-container-id-1 div.sk-label-container {text-align: center;}#sk-container-id-1 div.sk-container {/* jupyter's `normalize.less` sets `[hidden] { display: none; }` but bootstrap.min.css set `[hidden] { display: none !important; }` so we also need the `!important` here to be able to override the default hidden behavior on the sphinx rendered scikit-learn.org. See: https://github.com/scikit-learn/scikit-learn/issues/21755 */display: inline-block !important;position: relative;}#sk-container-id-1 div.sk-text-repr-fallback {display: none;}</style><div id=\"sk-container-id-1\" class=\"sk-top-container\"><div class=\"sk-text-repr-fallback\"><pre>RandomForestClassifier(random_state=42)</pre><b>In a Jupyter environment, please rerun this cell to show the HTML representation or trust the notebook. <br />On GitHub, the HTML representation is unable to render, please try loading this page with nbviewer.org.</b></div><div class=\"sk-container\" hidden><div class=\"sk-item\"><div class=\"sk-estimator sk-toggleable\"><input class=\"sk-toggleable__control sk-hidden--visually\" id=\"sk-estimator-id-1\" type=\"checkbox\" checked><label for=\"sk-estimator-id-1\" class=\"sk-toggleable__label sk-toggleable__label-arrow\">RandomForestClassifier</label><div class=\"sk-toggleable__content\"><pre>RandomForestClassifier(random_state=42)</pre></div></div></div></div></div>"
            ]
          },
          "metadata": {},
          "execution_count": 17
        }
      ]
    },
    {
      "cell_type": "code",
      "source": [
        "# Evaluate the model on the validation set\n",
        "y_pred = model.predict(X_val)\n",
        "accuracy = accuracy_score(y_val, y_pred)\n",
        "classification_rep = classification_report(y_val, y_pred)"
      ],
      "metadata": {
        "id": "YzTu6TN7ZETO"
      },
      "execution_count": 18,
      "outputs": []
    },
    {
      "cell_type": "code",
      "source": [
        "accuracy, classification_rep"
      ],
      "metadata": {
        "colab": {
          "base_uri": "https://localhost:8080/"
        },
        "id": "pPr-25XPZG55",
        "outputId": "0385f314-2563-4b5e-ef40-23ad12d3bc6a"
      },
      "execution_count": 19,
      "outputs": [
        {
          "output_type": "execute_result",
          "data": {
            "text/plain": [
              "(0.886,\n",
              " '              precision    recall  f1-score   support\\n\\n           0       0.90      0.93      0.92      1327\\n           1       0.85      0.80      0.82       673\\n\\n    accuracy                           0.89      2000\\n   macro avg       0.88      0.86      0.87      2000\\nweighted avg       0.88      0.89      0.89      2000\\n')"
            ]
          },
          "metadata": {},
          "execution_count": 19
        }
      ]
    },
    {
      "cell_type": "markdown",
      "source": [
        "The Random Forest model achieved an accuracy of 88.6% on the validation set, with the following performance metrics:\n",
        "\n",
        "Precision, Recall, and F1-score for class 0 (e.g., rejected applications) and class 1 (e.g., approved applications) are relatively high\n",
        "\n",
        "Precision for class 0: 0.90\n",
        "\n",
        "Recall for class 0: 0.93\n",
        "\n",
        "Precision for class 1: 0.85\n",
        "\n",
        "Recall for class 1: 0.80"
      ],
      "metadata": {
        "id": "4TNSlE2nZNLj"
      }
    },
    {
      "cell_type": "markdown",
      "source": [
        "# Comparing results of multiple models"
      ],
      "metadata": {
        "id": "zjLj9F-eaJG6"
      }
    },
    {
      "cell_type": "markdown",
      "source": [
        "In this analysis, we aim to determine the best model for predicting whether a two-wheeler loan application would be accepted or rejected. We experiment with multiple machine learning models, including Random Forest, Support Vector Machine (SVM), Decision Tree, and Gradient Boosting Machine (GBM). The objective is to compare the performance of these models and select the one that offers the highest accuracy and balanced performance across various metrics, such as precision, recall, and F1-score.\n"
      ],
      "metadata": {
        "id": "Yi7ekfWxaypr"
      }
    },
    {
      "cell_type": "code",
      "source": [
        "from sklearn.svm import SVC\n",
        "from sklearn.tree import DecisionTreeClassifier\n",
        "from xgboost import XGBClassifier\n",
        "\n",
        "# Initialize the models\n",
        "svm_model = SVC(random_state=42)\n",
        "decision_tree_model = DecisionTreeClassifier(random_state=42)\n",
        "gbm_model = XGBClassifier(random_state=42, use_label_encoder=False, eval_metric='logloss')\n",
        "\n",
        "# Dictionary to store the results of each model\n",
        "results = {}\n",
        "\n",
        "# Train and evaluate the SVM model\n",
        "svm_model.fit(X_train, y_train)\n",
        "y_pred_svm = svm_model.predict(X_val)\n",
        "results['SVM'] = {\n",
        "    'accuracy': accuracy_score(y_val, y_pred_svm),\n",
        "    'classification_report': classification_report(y_val, y_pred_svm)\n",
        "}\n",
        "\n",
        "# Train and evaluate the Decision Tree model\n",
        "decision_tree_model.fit(X_train, y_train)\n",
        "y_pred_tree = decision_tree_model.predict(X_val)\n",
        "results['Decision Tree'] = {\n",
        "    'accuracy': accuracy_score(y_val, y_pred_tree),\n",
        "    'classification_report': classification_report(y_val, y_pred_tree)\n",
        "}\n",
        "\n",
        "# Train and evaluate the GBM model\n",
        "gbm_model.fit(X_train, y_train)\n",
        "y_pred_gbm = gbm_model.predict(X_val)\n",
        "results['GBM'] = {\n",
        "    'accuracy': accuracy_score(y_val, y_pred_gbm),\n",
        "    'classification_report': classification_report(y_val, y_pred_gbm)\n",
        "}\n",
        "\n",
        "results"
      ],
      "metadata": {
        "colab": {
          "base_uri": "https://localhost:8080/"
        },
        "id": "3L98gFCkZIaZ",
        "outputId": "e8de4c24-4ad2-40be-8644-cfe1abaf8d70"
      },
      "execution_count": 20,
      "outputs": [
        {
          "output_type": "stream",
          "name": "stderr",
          "text": [
            "/usr/local/lib/python3.10/dist-packages/xgboost/core.py:158: UserWarning: [07:34:14] WARNING: /workspace/src/learner.cc:740: \n",
            "Parameters: { \"use_label_encoder\" } are not used.\n",
            "\n",
            "  warnings.warn(smsg, UserWarning)\n"
          ]
        },
        {
          "output_type": "execute_result",
          "data": {
            "text/plain": [
              "{'SVM': {'accuracy': 0.6885,\n",
              "  'classification_report': '              precision    recall  f1-score   support\\n\\n           0       0.69      0.95      0.80      1327\\n           1       0.64      0.17      0.27       673\\n\\n    accuracy                           0.69      2000\\n   macro avg       0.67      0.56      0.54      2000\\nweighted avg       0.67      0.69      0.62      2000\\n'},\n",
              " 'Decision Tree': {'accuracy': 0.856,\n",
              "  'classification_report': '              precision    recall  f1-score   support\\n\\n           0       0.89      0.89      0.89      1327\\n           1       0.79      0.78      0.79       673\\n\\n    accuracy                           0.86      2000\\n   macro avg       0.84      0.84      0.84      2000\\nweighted avg       0.86      0.86      0.86      2000\\n'},\n",
              " 'GBM': {'accuracy': 0.892,\n",
              "  'classification_report': '              precision    recall  f1-score   support\\n\\n           0       0.92      0.92      0.92      1327\\n           1       0.84      0.83      0.84       673\\n\\n    accuracy                           0.89      2000\\n   macro avg       0.88      0.88      0.88      2000\\nweighted avg       0.89      0.89      0.89      2000\\n'}}"
            ]
          },
          "metadata": {},
          "execution_count": 20
        }
      ]
    },
    {
      "cell_type": "markdown",
      "source": [
        "### Model Comparison\n",
        "\n",
        "After training and evaluating each model, here are the results:\n",
        "\n",
        "#### SVM:\n",
        "- **Accuracy**: 68.85%\n",
        "- **Precision**:\n",
        "  - Class 0: 0.69\n",
        "  - Class 1: 0.64\n",
        "- **Recall**:\n",
        "  - Class 0: 0.95\n",
        "  - Class 1: 0.17\n",
        "- **F1-Score**:\n",
        "  - Class 0: 0.80\n",
        "  - Class 1: 0.27\n",
        "\n",
        "#### Decision Tree:\n",
        "- **Accuracy**: 85.6%\n",
        "- **Precision**:\n",
        "  - Class 0: 0.89\n",
        "  - Class 1: 0.79\n",
        "- **Recall**:\n",
        "  - Class 0: 0.89\n",
        "  - Class 1: 0.78\n",
        "- **F1-Score**:\n",
        "  - Class 0: 0.89\n",
        "  - Class 1: 0.79\n",
        "\n",
        "#### Random Forest (RFC):\n",
        "- **Accuracy**: 88.6%\n",
        "- **Precision**:\n",
        "  - Class 0: 0.90\n",
        "  - Class 1: 0.85\n",
        "- **Recall**:\n",
        "  - Class 0: 0.93\n",
        "  - Class 1: 0.80\n",
        "- **F1-Score**:\n",
        "  - Class 0: 0.92\n",
        "  - Class 1: 0.82\n",
        "\n",
        "#### GBM:\n",
        "- **Accuracy**: 89.2%\n",
        "- **Precision**:\n",
        "  - Class 0: 0.92\n",
        "  - Class 1: 0.84\n",
        "- **Recall**:\n",
        "  - Class 0: 0.92\n",
        "  - Class 1: 0.83\n",
        "- **F1-Score**:\n",
        "  - Class 0: 0.92\n",
        "  - Class 1: 0.84\n",
        "\n",
        "### Conclusion\n",
        "\n",
        "Based on the comparison, the **GBM** model exhibited the best performance, achieving the highest accuracy (89.2%) along with strong precision, recall, and F1-scores for both classes. The **Random Forest Classifier (RFC)** also performed well but slightly underperformed compared to GBM. Therefore, we proceed with the GBM model for generating predictions on the test data.\n"
      ],
      "metadata": {
        "id": "tPjbQPQKalMZ"
      }
    },
    {
      "cell_type": "markdown",
      "source": [
        "## Generate predictions"
      ],
      "metadata": {
        "id": "cpIV0W65bN6F"
      }
    },
    {
      "cell_type": "code",
      "source": [
        "missing_cols_in_test = set(X.columns) - set(test_data.columns)\n",
        "extra_cols_in_test = set(test_data.columns) - set(X.columns)\n",
        "\n",
        "for col in missing_cols_in_test:\n",
        "    test_data[col] = 0\n",
        "\n",
        "test_data = test_data.drop(columns=extra_cols_in_test, errors='ignore')\n",
        "\n",
        "test_data = test_data[X.columns]\n",
        "\n",
        "test_predictions = model.predict(test_data)\n",
        "\n",
        "submission = pd.DataFrame({\n",
        "    'UID': test_data['DEALER ID'],\n",
        "    'Prediction': test_predictions\n",
        "})\n",
        "\n",
        "submission_file_path = '/content/predictions.csv'\n",
        "submission.to_csv(submission_file_path, index=False)\n",
        "\n",
        "submission_file_path\n"
      ],
      "metadata": {
        "colab": {
          "base_uri": "https://localhost:8080/",
          "height": 36
        },
        "id": "-f0BM09SaEoi",
        "outputId": "cdf6c863-af33-4863-b4f0-d5b649af6546"
      },
      "execution_count": 30,
      "outputs": [
        {
          "output_type": "execute_result",
          "data": {
            "text/plain": [
              "'/content/predictions.csv'"
            ],
            "application/vnd.google.colaboratory.intrinsic+json": {
              "type": "string"
            }
          },
          "metadata": {},
          "execution_count": 30
        }
      ]
    },
    {
      "cell_type": "markdown",
      "source": [
        "# Fixing issues with submission file"
      ],
      "metadata": {
        "id": "9PrQLci8eM2J"
      }
    },
    {
      "cell_type": "code",
      "source": [
        "import pandas as pd\n",
        "from sklearn.model_selection import train_test_split\n",
        "from sklearn.preprocessing import LabelEncoder, StandardScaler\n",
        "from sklearn.impute import SimpleImputer\n",
        "from sklearn.ensemble import RandomForestClassifier\n",
        "from sklearn.metrics import accuracy_score, classification_report\n",
        "from sklearn.preprocessing import OrdinalEncoder\n",
        "\n",
        "\n",
        "train_data = pd.read_csv('/content/Assignment_Train.csv')\n",
        "test_data = pd.read_csv('/content/Assignment_Test.csv')\n",
        "\n",
        "num_cols = train_data.select_dtypes(include=['float64', 'int64']).columns\n",
        "cat_cols = train_data.select_dtypes(include=['object']).columns\n",
        "\n",
        "cat_cols = [col for col in cat_cols if col != 'Application Status']\n",
        "\n",
        "num_imputer = SimpleImputer(strategy='mean')\n",
        "cat_imputer = SimpleImputer(strategy='most_frequent')\n",
        "\n",
        "train_data[num_cols] = num_imputer.fit_transform(train_data[num_cols])\n",
        "train_data[cat_cols] = cat_imputer.fit_transform(train_data[cat_cols])\n",
        "\n",
        "ordinal_encoder = OrdinalEncoder(handle_unknown='use_encoded_value', unknown_value=-1)\n",
        "train_data[cat_cols] = ordinal_encoder.fit_transform(train_data[cat_cols])\n",
        "\n",
        "scaler = StandardScaler()\n",
        "train_data[num_cols] = scaler.fit_transform(train_data[num_cols])\n",
        "\n",
        "X = train_data.drop(columns=['Application Status'])\n",
        "y = train_data['Application Status']\n",
        "\n",
        "X_train, X_val, y_train, y_val = train_test_split(X, y, test_size=0.2, random_state=42)\n",
        "\n",
        "rfc = RandomForestClassifier(random_state=42)\n",
        "rfc.fit(X_train, y_train)\n",
        "\n",
        "y_pred_val = rfc.predict(X_val)\n",
        "print(\"Validation Accuracy:\", accuracy_score(y_val, y_pred_val))\n",
        "print(\"Classification Report:\\n\", classification_report(y_val, y_pred_val))\n",
        "\n",
        "cat_cols_test = [col for col in cat_cols if col in test_data.columns]\n",
        "\n",
        "test_data[num_cols] = num_imputer.transform(test_data[num_cols])\n",
        "test_data[cat_cols_test] = cat_imputer.transform(test_data[cat_cols_test])\n",
        "\n",
        "test_data[cat_cols_test] = ordinal_encoder.transform(test_data[cat_cols_test])\n",
        "\n",
        "test_data[num_cols] = scaler.transform(test_data[num_cols])\n",
        "\n",
        "test_data_features = test_data.drop(columns=['UID'])\n",
        "\n",
        "test_predictions = rfc.predict(test_data_features)\n",
        "\n",
        "submission = pd.DataFrame({\n",
        "    'UID': test_data['UID'],\n",
        "    'Prediction': test_predictions\n",
        "})\n",
        "\n",
        "submission_file_path = '/content/predictions2.csv'\n",
        "submission.to_csv(submission_file_path, index=False)\n",
        "\n",
        "print(\"Predictions saved to:\", submission_file_path)\n"
      ],
      "metadata": {
        "colab": {
          "base_uri": "https://localhost:8080/"
        },
        "id": "7DGkHCK_bQxI",
        "outputId": "b3420d6f-3e99-4e49-ba3c-bc1032a1bd7c"
      },
      "execution_count": 35,
      "outputs": [
        {
          "output_type": "stream",
          "name": "stdout",
          "text": [
            "Validation Accuracy: 0.886\n",
            "Classification Report:\n",
            "               precision    recall  f1-score   support\n",
            "\n",
            "    APPROVED       0.90      0.93      0.92      1327\n",
            "    DECLINED       0.85      0.80      0.82       673\n",
            "\n",
            "    accuracy                           0.89      2000\n",
            "   macro avg       0.88      0.86      0.87      2000\n",
            "weighted avg       0.88      0.89      0.89      2000\n",
            "\n",
            "Predictions saved to: /content/predictions2.csv\n"
          ]
        }
      ]
    },
    {
      "cell_type": "code",
      "source": [],
      "metadata": {
        "id": "myxK4kEkeXIQ"
      },
      "execution_count": null,
      "outputs": []
    }
  ]
}